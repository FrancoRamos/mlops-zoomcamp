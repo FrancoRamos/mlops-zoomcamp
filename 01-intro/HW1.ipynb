{
 "cells": [
  {
   "cell_type": "code",
   "execution_count": 1,
   "id": "41062d8a",
   "metadata": {},
   "outputs": [],
   "source": [
    "import pandas as pd\n",
    "import pickle\n",
    "import seaborn as sns\n",
    "import matplotlib.pyplot as plt"
   ]
  },
  {
   "cell_type": "code",
   "execution_count": 2,
   "id": "c984c564",
   "metadata": {},
   "outputs": [],
   "source": [
    "from sklearn.feature_extraction import DictVectorizer\n",
    "from sklearn.linear_model import LinearRegression\n",
    "from sklearn.linear_model import Lasso\n",
    "from sklearn.linear_model import Ridge\n",
    "\n",
    "from sklearn.metrics import mean_squared_error"
   ]
  },
  {
   "cell_type": "markdown",
   "id": "75c40666",
   "metadata": {},
   "source": [
    "## Q1. Downloading the data"
   ]
  },
  {
   "cell_type": "code",
   "execution_count": 31,
   "id": "4add538c",
   "metadata": {},
   "outputs": [
    {
     "data": {
      "text/plain": [
       "(3066766, 19)"
      ]
     },
     "execution_count": 31,
     "metadata": {},
     "output_type": "execute_result"
    }
   ],
   "source": [
    "df = pd.read_parquet('./data/yellow_tripdata_2023-01.parquet')\n",
    "df.shape"
   ]
  },
  {
   "cell_type": "markdown",
   "id": "07b10831",
   "metadata": {},
   "source": [
    "3066766 will be use in Q3"
   ]
  },
  {
   "cell_type": "code",
   "execution_count": 32,
   "id": "8b135c2b",
   "metadata": {},
   "outputs": [
    {
     "name": "stdout",
     "output_type": "stream",
     "text": [
      "How many columns are there?\n",
      "19 columns\n"
     ]
    }
   ],
   "source": [
    "print(\"How many columns are there?\")\n",
    "print(f\"{df.shape[1]} columns\")"
   ]
  },
  {
   "cell_type": "markdown",
   "id": "d5a8f1b1",
   "metadata": {},
   "source": [
    "## Q2. Computing duration"
   ]
  },
  {
   "cell_type": "code",
   "execution_count": 39,
   "id": "d4811bf8",
   "metadata": {},
   "outputs": [
    {
     "data": {
      "text/plain": [
       "0           8.433333\n",
       "1           6.316667\n",
       "2          12.750000\n",
       "3           9.616667\n",
       "4          10.833333\n",
       "             ...    \n",
       "3066761    13.983333\n",
       "3066762    19.450000\n",
       "3066763    24.516667\n",
       "3066764    13.000000\n",
       "3066765    14.400000\n",
       "Name: duration, Length: 3066766, dtype: float64"
      ]
     },
     "execution_count": 39,
     "metadata": {},
     "output_type": "execute_result"
    }
   ],
   "source": [
    "df['duration'] = (df['tpep_dropoff_datetime'] - df['tpep_pickup_datetime']).dt.total_seconds() / 60\n",
    "df['duration']"
   ]
  },
  {
   "cell_type": "code",
   "execution_count": 40,
   "id": "77a33d71",
   "metadata": {},
   "outputs": [
    {
     "name": "stdout",
     "output_type": "stream",
     "text": [
      "What's the standard deviation of the trips duration in January?\n",
      "42.59435124195458\n"
     ]
    }
   ],
   "source": [
    "print(\"What's the standard deviation of the trips duration in January?\")\n",
    "print(df['duration'].std())"
   ]
  },
  {
   "cell_type": "markdown",
   "id": "3775d5c5",
   "metadata": {},
   "source": [
    "## Q3. Dropping outliers"
   ]
  },
  {
   "cell_type": "code",
   "execution_count": 41,
   "id": "bdb0e63f",
   "metadata": {},
   "outputs": [
    {
     "data": {
      "text/plain": [
       "(3009173, 20)"
      ]
     },
     "execution_count": 41,
     "metadata": {},
     "output_type": "execute_result"
    }
   ],
   "source": [
    "df = df[(df.duration >= 1) & (df.duration <= 60)]\n",
    "df.shape"
   ]
  },
  {
   "cell_type": "code",
   "execution_count": 44,
   "id": "a2ea2601",
   "metadata": {},
   "outputs": [
    {
     "name": "stdout",
     "output_type": "stream",
     "text": [
      "What fraction of the records left after you dropped the outliers?\n",
      "98.1220282212598\n"
     ]
    }
   ],
   "source": [
    "print(\"What fraction of the records left after you dropped the outliers?\")\n",
    "print(3009173 / 3066766 * 100)"
   ]
  },
  {
   "cell_type": "markdown",
   "id": "3cd9a9bb",
   "metadata": {},
   "source": [
    "## Q4. One-hot encoding"
   ]
  },
  {
   "cell_type": "code",
   "execution_count": 45,
   "id": "8f5cf292",
   "metadata": {},
   "outputs": [],
   "source": [
    "categorical = ['PULocationID', 'DOLocationID']\n",
    "numerical = ['trip_distance']\n",
    "\n",
    "df[categorical] = df[categorical].astype(str)"
   ]
  },
  {
   "cell_type": "code",
   "execution_count": 47,
   "id": "18337b13",
   "metadata": {},
   "outputs": [],
   "source": [
    "train_dicts = df[categorical + numerical].to_dict(orient='records')\n",
    "\n",
    "dv = DictVectorizer()\n",
    "X_train = dv.fit_transform(train_dicts)"
   ]
  },
  {
   "cell_type": "code",
   "execution_count": 55,
   "id": "39855a83",
   "metadata": {},
   "outputs": [
    {
     "data": {
      "text/plain": [
       "(3009173, 516)"
      ]
     },
     "execution_count": 55,
     "metadata": {},
     "output_type": "execute_result"
    }
   ],
   "source": [
    "X_train.get_shape()"
   ]
  },
  {
   "cell_type": "code",
   "execution_count": 56,
   "id": "e2edd3b7",
   "metadata": {},
   "outputs": [
    {
     "name": "stdout",
     "output_type": "stream",
     "text": [
      "What's the dimensionality of this matrix (number of columns)?\n",
      "516\n"
     ]
    }
   ],
   "source": [
    "print(\"What's the dimensionality of this matrix (number of columns)?\")\n",
    "print(X_train.get_shape()[1])"
   ]
  },
  {
   "cell_type": "markdown",
   "id": "9ad36b11",
   "metadata": {},
   "source": [
    "## Q5. Training a model"
   ]
  },
  {
   "cell_type": "code",
   "execution_count": 57,
   "id": "e70bbdea",
   "metadata": {},
   "outputs": [
    {
     "name": "stderr",
     "output_type": "stream",
     "text": [
      "c:\\Users\\FrancoRamos\\Videos\\mlops-zoomcamp\\.venv\\Lib\\site-packages\\sklearn\\metrics\\_regression.py:483: FutureWarning: 'squared' is deprecated in version 1.4 and will be removed in 1.6. To calculate the root mean squared error, use the function'root_mean_squared_error'.\n",
      "  warnings.warn(\n"
     ]
    },
    {
     "data": {
      "text/plain": [
       "7.658405703368252"
      ]
     },
     "execution_count": 57,
     "metadata": {},
     "output_type": "execute_result"
    }
   ],
   "source": [
    "target = 'duration'\n",
    "y_train = df[target].values\n",
    "\n",
    "lr = LinearRegression()\n",
    "lr.fit(X_train, y_train)\n",
    "\n",
    "y_pred = lr.predict(X_train)\n",
    "\n",
    "mean_squared_error(y_train, y_pred, squared=False)"
   ]
  },
  {
   "cell_type": "code",
   "execution_count": 58,
   "id": "4009f1fc",
   "metadata": {},
   "outputs": [
    {
     "name": "stdout",
     "output_type": "stream",
     "text": [
      "What's the RMSE on train?\n",
      "7.658405703368252\n"
     ]
    },
    {
     "name": "stderr",
     "output_type": "stream",
     "text": [
      "c:\\Users\\FrancoRamos\\Videos\\mlops-zoomcamp\\.venv\\Lib\\site-packages\\sklearn\\metrics\\_regression.py:483: FutureWarning: 'squared' is deprecated in version 1.4 and will be removed in 1.6. To calculate the root mean squared error, use the function'root_mean_squared_error'.\n",
      "  warnings.warn(\n"
     ]
    }
   ],
   "source": [
    "print(\"What's the RMSE on train?\")\n",
    "print(mean_squared_error(y_train, y_pred, squared=False))"
   ]
  },
  {
   "cell_type": "markdown",
   "id": "91a5c044",
   "metadata": {},
   "source": [
    "## Q6. Evaluating the model"
   ]
  },
  {
   "cell_type": "code",
   "execution_count": 63,
   "id": "f9e6479e",
   "metadata": {},
   "outputs": [],
   "source": [
    "def read_dataframe(filename):\n",
    "    if filename.endswith('.csv'):\n",
    "        df = pd.read_csv(filename)\n",
    "\n",
    "        df.tpep_dropoff_datetime = pd.to_datetime(df.tpep_dropoff_datetime)\n",
    "        df.tpep_pickup_datetime = pd.to_datetime(df.tpep_pickup_datetime)\n",
    "    elif filename.endswith('.parquet'):\n",
    "        df = pd.read_parquet(filename)\n",
    "\n",
    "    df['duration'] = df.tpep_dropoff_datetime - df.tpep_pickup_datetime\n",
    "    df.duration = df.duration.apply(lambda td: td.total_seconds() / 60)\n",
    "\n",
    "    df = df[(df.duration >= 1) & (df.duration <= 60)]\n",
    "\n",
    "    categorical = ['PULocationID', 'DOLocationID']\n",
    "    df[categorical] = df[categorical].astype(str)\n",
    "    \n",
    "    return df"
   ]
  },
  {
   "cell_type": "code",
   "execution_count": 64,
   "id": "8029eba0",
   "metadata": {},
   "outputs": [],
   "source": [
    "df_train = read_dataframe('./data/yellow_tripdata_2023-01.parquet')\n",
    "df_val = read_dataframe('./data/yellow_tripdata_2023-02.parquet')"
   ]
  },
  {
   "cell_type": "code",
   "execution_count": 65,
   "id": "f6f2f0eb",
   "metadata": {},
   "outputs": [
    {
     "data": {
      "text/plain": [
       "(3009173, 2855951)"
      ]
     },
     "execution_count": 65,
     "metadata": {},
     "output_type": "execute_result"
    }
   ],
   "source": [
    "len(df_train), len(df_val)"
   ]
  },
  {
   "cell_type": "code",
   "execution_count": 66,
   "id": "951d51ef",
   "metadata": {},
   "outputs": [],
   "source": [
    "df_train['PU_DO'] = df_train['PULocationID'] + '_' + df_train['DOLocationID']\n",
    "df_val['PU_DO'] = df_val['PULocationID'] + '_' + df_val['DOLocationID']"
   ]
  },
  {
   "cell_type": "code",
   "execution_count": 70,
   "id": "c5cbfc25",
   "metadata": {},
   "outputs": [],
   "source": [
    "categorical = ['PULocationID', 'DOLocationID']\n",
    "numerical = ['trip_distance']\n",
    "\n",
    "dv = DictVectorizer()\n",
    "\n",
    "train_dicts = df_train[categorical + numerical].to_dict(orient='records')\n",
    "X_train = dv.fit_transform(train_dicts)\n",
    "\n",
    "val_dicts = df_val[categorical + numerical].to_dict(orient='records')\n",
    "X_val = dv.transform(val_dicts)"
   ]
  },
  {
   "cell_type": "code",
   "execution_count": 71,
   "id": "1e9fb68b",
   "metadata": {},
   "outputs": [],
   "source": [
    "target = 'duration'\n",
    "y_train = df_train[target].values\n",
    "y_val = df_val[target].values"
   ]
  },
  {
   "cell_type": "code",
   "execution_count": 73,
   "id": "429e2394",
   "metadata": {},
   "outputs": [
    {
     "name": "stderr",
     "output_type": "stream",
     "text": [
      "c:\\Users\\FrancoRamos\\Videos\\mlops-zoomcamp\\.venv\\Lib\\site-packages\\sklearn\\metrics\\_regression.py:483: FutureWarning: 'squared' is deprecated in version 1.4 and will be removed in 1.6. To calculate the root mean squared error, use the function'root_mean_squared_error'.\n",
      "  warnings.warn(\n"
     ]
    },
    {
     "data": {
      "text/plain": [
       "7.658405703368252"
      ]
     },
     "execution_count": 73,
     "metadata": {},
     "output_type": "execute_result"
    }
   ],
   "source": [
    "lr = LinearRegression()\n",
    "lr.fit(X_train, y_train)\n",
    "\n",
    "y_pred = lr.predict(X_train)\n",
    "\n",
    "mean_squared_error(y_train, y_pred, squared=False)"
   ]
  },
  {
   "cell_type": "code",
   "execution_count": 74,
   "id": "47b0eb9b",
   "metadata": {},
   "outputs": [
    {
     "name": "stderr",
     "output_type": "stream",
     "text": [
      "c:\\Users\\FrancoRamos\\Videos\\mlops-zoomcamp\\.venv\\Lib\\site-packages\\sklearn\\metrics\\_regression.py:483: FutureWarning: 'squared' is deprecated in version 1.4 and will be removed in 1.6. To calculate the root mean squared error, use the function'root_mean_squared_error'.\n",
      "  warnings.warn(\n"
     ]
    },
    {
     "data": {
      "text/plain": [
       "12.509284386693556"
      ]
     },
     "execution_count": 74,
     "metadata": {},
     "output_type": "execute_result"
    }
   ],
   "source": [
    "y_pred = lr.predict(X_val)\n",
    "\n",
    "mean_squared_error(y_val, y_pred, squared=False)"
   ]
  },
  {
   "cell_type": "code",
   "execution_count": 75,
   "id": "ec1318e4",
   "metadata": {},
   "outputs": [
    {
     "name": "stdout",
     "output_type": "stream",
     "text": [
      "What's the RMSE on validation?\n",
      "12.509284386693556\n"
     ]
    },
    {
     "name": "stderr",
     "output_type": "stream",
     "text": [
      "c:\\Users\\FrancoRamos\\Videos\\mlops-zoomcamp\\.venv\\Lib\\site-packages\\sklearn\\metrics\\_regression.py:483: FutureWarning: 'squared' is deprecated in version 1.4 and will be removed in 1.6. To calculate the root mean squared error, use the function'root_mean_squared_error'.\n",
      "  warnings.warn(\n"
     ]
    }
   ],
   "source": [
    "print(\"What's the RMSE on validation?\")\n",
    "print(mean_squared_error(y_val, y_pred, squared=False))"
   ]
  }
 ],
 "metadata": {
  "kernelspec": {
   "display_name": "Python 3 (ipykernel)",
   "language": "python",
   "name": "python3"
  },
  "language_info": {
   "codemirror_mode": {
    "name": "ipython",
    "version": 3
   },
   "file_extension": ".py",
   "mimetype": "text/x-python",
   "name": "python",
   "nbconvert_exporter": "python",
   "pygments_lexer": "ipython3",
   "version": "3.11.7"
  }
 },
 "nbformat": 4,
 "nbformat_minor": 5
}
